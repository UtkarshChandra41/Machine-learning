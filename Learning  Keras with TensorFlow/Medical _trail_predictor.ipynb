{
 "cells": [
  {
   "cell_type": "code",
   "execution_count": 1,
   "id": "0809fff1",
   "metadata": {},
   "outputs": [
    {
     "name": "stdout",
     "output_type": "stream",
     "text": [
      "Epoch 1/30\n"
     ]
    },
    {
     "name": "stderr",
     "output_type": "stream",
     "text": [
      "/Library/Frameworks/Python.framework/Versions/3.12/lib/python3.12/site-packages/keras/src/layers/core/dense.py:93: UserWarning: Do not pass an `input_shape`/`input_dim` argument to a layer. When using Sequential models, prefer using an `Input(shape)` object as the first layer in the model instead.\n",
      "  super().__init__(activity_regularizer=activity_regularizer, **kwargs)\n"
     ]
    },
    {
     "name": "stdout",
     "output_type": "stream",
     "text": [
      "189/189 - 0s - 2ms/step - accuracy: 0.5376 - loss: 0.6765 - val_accuracy: 0.5571 - val_loss: 0.6755\n",
      "Epoch 2/30\n",
      "189/189 - 0s - 419us/step - accuracy: 0.6116 - loss: 0.6659 - val_accuracy: 0.5905 - val_loss: 0.6661\n",
      "Epoch 3/30\n",
      "189/189 - 0s - 406us/step - accuracy: 0.6651 - loss: 0.6536 - val_accuracy: 0.6095 - val_loss: 0.6556\n",
      "Epoch 4/30\n",
      "189/189 - 0s - 410us/step - accuracy: 0.6995 - loss: 0.6392 - val_accuracy: 0.6476 - val_loss: 0.6431\n",
      "Epoch 5/30\n",
      "189/189 - 0s - 401us/step - accuracy: 0.7217 - loss: 0.6245 - val_accuracy: 0.6762 - val_loss: 0.6307\n",
      "Epoch 6/30\n",
      "189/189 - 0s - 508us/step - accuracy: 0.7312 - loss: 0.6088 - val_accuracy: 0.6762 - val_loss: 0.6176\n",
      "Epoch 7/30\n",
      "189/189 - 0s - 379us/step - accuracy: 0.7460 - loss: 0.5925 - val_accuracy: 0.6762 - val_loss: 0.6040\n",
      "Epoch 8/30\n",
      "189/189 - 0s - 379us/step - accuracy: 0.7614 - loss: 0.5757 - val_accuracy: 0.7095 - val_loss: 0.5899\n",
      "Epoch 9/30\n",
      "189/189 - 0s - 381us/step - accuracy: 0.7709 - loss: 0.5587 - val_accuracy: 0.7286 - val_loss: 0.5755\n",
      "Epoch 10/30\n",
      "189/189 - 0s - 380us/step - accuracy: 0.7862 - loss: 0.5417 - val_accuracy: 0.7381 - val_loss: 0.5612\n",
      "Epoch 11/30\n",
      "189/189 - 0s - 374us/step - accuracy: 0.7931 - loss: 0.5248 - val_accuracy: 0.7667 - val_loss: 0.5466\n",
      "Epoch 12/30\n",
      "189/189 - 0s - 381us/step - accuracy: 0.8063 - loss: 0.5082 - val_accuracy: 0.7905 - val_loss: 0.5325\n",
      "Epoch 13/30\n",
      "189/189 - 0s - 375us/step - accuracy: 0.8196 - loss: 0.4917 - val_accuracy: 0.8048 - val_loss: 0.5186\n",
      "Epoch 14/30\n",
      "189/189 - 0s - 384us/step - accuracy: 0.8280 - loss: 0.4755 - val_accuracy: 0.8143 - val_loss: 0.5049\n",
      "Epoch 15/30\n",
      "189/189 - 0s - 382us/step - accuracy: 0.8344 - loss: 0.4599 - val_accuracy: 0.8286 - val_loss: 0.4913\n",
      "Epoch 16/30\n",
      "189/189 - 0s - 385us/step - accuracy: 0.8492 - loss: 0.4449 - val_accuracy: 0.8524 - val_loss: 0.4783\n",
      "Epoch 17/30\n",
      "189/189 - 0s - 375us/step - accuracy: 0.8571 - loss: 0.4306 - val_accuracy: 0.8524 - val_loss: 0.4664\n",
      "Epoch 18/30\n",
      "189/189 - 0s - 374us/step - accuracy: 0.8656 - loss: 0.4170 - val_accuracy: 0.8571 - val_loss: 0.4549\n",
      "Epoch 19/30\n",
      "189/189 - 0s - 373us/step - accuracy: 0.8725 - loss: 0.4042 - val_accuracy: 0.8619 - val_loss: 0.4439\n",
      "Epoch 20/30\n",
      "189/189 - 0s - 374us/step - accuracy: 0.8810 - loss: 0.3922 - val_accuracy: 0.8619 - val_loss: 0.4342\n",
      "Epoch 21/30\n",
      "189/189 - 0s - 374us/step - accuracy: 0.8873 - loss: 0.3810 - val_accuracy: 0.8667 - val_loss: 0.4247\n",
      "Epoch 22/30\n",
      "189/189 - 0s - 373us/step - accuracy: 0.8878 - loss: 0.3705 - val_accuracy: 0.8810 - val_loss: 0.4163\n",
      "Epoch 23/30\n",
      "189/189 - 0s - 370us/step - accuracy: 0.8984 - loss: 0.3607 - val_accuracy: 0.8810 - val_loss: 0.4081\n",
      "Epoch 24/30\n",
      "189/189 - 0s - 375us/step - accuracy: 0.9016 - loss: 0.3517 - val_accuracy: 0.9000 - val_loss: 0.4008\n",
      "Epoch 25/30\n",
      "189/189 - 0s - 373us/step - accuracy: 0.9111 - loss: 0.3433 - val_accuracy: 0.9000 - val_loss: 0.3941\n",
      "Epoch 26/30\n",
      "189/189 - 0s - 375us/step - accuracy: 0.9101 - loss: 0.3356 - val_accuracy: 0.9000 - val_loss: 0.3878\n",
      "Epoch 27/30\n",
      "189/189 - 0s - 373us/step - accuracy: 0.9164 - loss: 0.3286 - val_accuracy: 0.9048 - val_loss: 0.3820\n",
      "Epoch 28/30\n",
      "189/189 - 0s - 374us/step - accuracy: 0.9217 - loss: 0.3220 - val_accuracy: 0.9048 - val_loss: 0.3770\n",
      "Epoch 29/30\n",
      "189/189 - 0s - 373us/step - accuracy: 0.9228 - loss: 0.3160 - val_accuracy: 0.9048 - val_loss: 0.3728\n",
      "Epoch 30/30\n",
      "189/189 - 0s - 579us/step - accuracy: 0.9233 - loss: 0.3107 - val_accuracy: 0.9048 - val_loss: 0.3683\n",
      "\n",
      "Sample Predictions:\n",
      "Age: 88, Predicted: 1, Actual: 0\n",
      "Age: 95, Predicted: 1, Actual: 1\n",
      "Age: 47, Predicted: 0, Actual: 0\n",
      "Age: 77, Predicted: 1, Actual: 0\n",
      "Age: 96, Predicted: 1, Actual: 0\n",
      "Age: 85, Predicted: 1, Actual: 1\n",
      "Age: 92, Predicted: 1, Actual: 1\n",
      "Age: 15, Predicted: 0, Actual: 0\n",
      "Age: 50, Predicted: 0, Actual: 0\n",
      "Age: 51, Predicted: 0, Actual: 0\n"
     ]
    }
   ],
   "source": [
    "# ---------------------------\n",
    "# 1. Import necessary libraries\n",
    "# ---------------------------\n",
    "import numpy as np\n",
    "from random import randint\n",
    "from sklearn.utils import shuffle\n",
    "from sklearn.preprocessing import MinMaxScaler\n",
    "from sklearn.utils.class_weight import compute_class_weight\n",
    "\n",
    "import tensorflow as tf\n",
    "from tensorflow.keras.models import Sequential\n",
    "from tensorflow.keras.layers import Dense\n",
    "from tensorflow.keras.optimizers import Adam\n",
    "\n",
    "# ---------------------------\n",
    "# 2. Generate synthetic training data\n",
    "# ---------------------------\n",
    "train_samples = []\n",
    "train_labels = []\n",
    "\n",
    "# 5% of younger individuals (13–64) who DID experience side effects → label 1\n",
    "# 5% of older individuals (65–100) who did NOT experience side effects → label 0\n",
    "for _ in range(50):\n",
    "    train_samples.append(randint(13, 64))\n",
    "    train_labels.append(1)\n",
    "    train_samples.append(randint(65, 100))\n",
    "    train_labels.append(0)\n",
    "\n",
    "# 95% of younger individuals who did NOT experience side effects → label 0\n",
    "# 95% of older individuals who DID experience side effects → label 1\n",
    "for _ in range(1000):\n",
    "    train_samples.append(randint(13, 64))\n",
    "    train_labels.append(0)\n",
    "    train_samples.append(randint(65, 100))\n",
    "    train_labels.append(1)\n",
    "\n",
    "# Convert to NumPy arrays and shuffle\n",
    "train_samples = np.array(train_samples)\n",
    "train_labels = np.array(train_labels)\n",
    "train_labels, train_samples = shuffle(train_labels, train_samples)\n",
    "\n",
    "# ---------------------------\n",
    "# 3. Scale the training data (ages) between 0 and 1\n",
    "# ---------------------------\n",
    "scaler = MinMaxScaler(feature_range=(0, 1))\n",
    "scaled_train_samples = scaler.fit_transform(train_samples.reshape(-1, 1))\n",
    "\n",
    "# ---------------------------\n",
    "# 4. Define a binary classification model\n",
    "# ---------------------------\n",
    "model = Sequential([\n",
    "    Dense(units=16, input_shape=(1,), activation='relu'),\n",
    "    Dense(units=32, activation='relu'),\n",
    "    Dense(units=1, activation='sigmoid')  # Use sigmoid for binary classification\n",
    "])\n",
    "\n",
    "# ---------------------------\n",
    "# 5. Compile the model\n",
    "# ---------------------------\n",
    "model.compile(\n",
    "    optimizer=Adam(learning_rate=0.0001),\n",
    "    loss='binary_crossentropy',\n",
    "    metrics=['accuracy']\n",
    ")\n",
    "\n",
    "# ---------------------------\n",
    "# 6. Handle class imbalance using class weights\n",
    "# ---------------------------\n",
    "class_weights = compute_class_weight(\n",
    "    class_weight='balanced',\n",
    "    classes=np.unique(train_labels),\n",
    "    y=train_labels\n",
    ")\n",
    "class_weight_dict = dict(enumerate(class_weights))\n",
    "\n",
    "# ---------------------------\n",
    "# 7. Train the model\n",
    "# ---------------------------\n",
    "model.fit(\n",
    "    x=scaled_train_samples,\n",
    "    y=train_labels,\n",
    "    validation_split=0.1,\n",
    "    batch_size=10,\n",
    "    epochs=30,\n",
    "    shuffle=True,\n",
    "    class_weight=class_weight_dict,\n",
    "    verbose=2\n",
    ")\n",
    "\n",
    "# ---------------------------\n",
    "# 8. Generate synthetic test data\n",
    "# ---------------------------\n",
    "test_samples = []\n",
    "test_labels = []\n",
    "\n",
    "# 5% of younger individuals who did experience side effects\n",
    "# 5% of older individuals who did NOT experience side effects\n",
    "for _ in range(50):\n",
    "    test_samples.append(randint(13, 64))\n",
    "    test_labels.append(1)\n",
    "    test_samples.append(randint(65, 100))\n",
    "    test_labels.append(0)\n",
    "\n",
    "# 95% of younger individuals who did NOT experience side effects\n",
    "# 95% of older individuals who DID experience side effects\n",
    "for _ in range(200):\n",
    "    test_samples.append(randint(13, 64))\n",
    "    test_labels.append(0)\n",
    "    test_samples.append(randint(65, 100))\n",
    "    test_labels.append(1)\n",
    "\n",
    "test_samples = np.array(test_samples)\n",
    "test_labels = np.array(test_labels)\n",
    "test_labels, test_samples = shuffle(test_labels, test_samples)\n",
    "\n",
    "# ---------------------------\n",
    "# 9. Scale test data using the same scaler from training\n",
    "# ---------------------------\n",
    "scaled_test_samples = scaler.transform(test_samples.reshape(-1, 1))\n",
    "\n",
    "# ---------------------------\n",
    "# 10. Predict using the trained model\n",
    "# ---------------------------\n",
    "predictions = model.predict(x=scaled_test_samples, batch_size=10, verbose=0)\n",
    "\n",
    "# Convert probabilities to binary class labels (0 or 1)\n",
    "rounded_predictions = np.round(predictions).astype(int)\n",
    "\n",
    "# ---------------------------\n",
    "# 11. Display some predictions vs actual\n",
    "# ---------------------------\n",
    "print(\"\\nSample Predictions:\")\n",
    "for i in range(10):\n",
    "    print(f\"Age: {test_samples[i]}, Predicted: {rounded_predictions[i][0]}, Actual: {test_labels[i]}\")\n"
   ]
  },
  {
   "cell_type": "code",
   "execution_count": 2,
   "id": "cfe910ba",
   "metadata": {},
   "outputs": [
    {
     "name": "stdout",
     "output_type": "stream",
     "text": [
      "\n",
      "Confusion Matrix:\n",
      "[[189  61]\n",
      " [ 47 203]]\n",
      "\n",
      "Classification Report:\n",
      "              precision    recall  f1-score   support\n",
      "\n",
      "           0       0.80      0.76      0.78       250\n",
      "           1       0.77      0.81      0.79       250\n",
      "\n",
      "    accuracy                           0.78       500\n",
      "   macro avg       0.78      0.78      0.78       500\n",
      "weighted avg       0.78      0.78      0.78       500\n",
      "\n"
     ]
    },
    {
     "ename": "ModuleNotFoundError",
     "evalue": "No module named 'matplotlib'",
     "output_type": "error",
     "traceback": [
      "\u001b[31m---------------------------------------------------------------------------\u001b[39m",
      "\u001b[31mModuleNotFoundError\u001b[39m                       Traceback (most recent call last)",
      "\u001b[36mCell\u001b[39m\u001b[36m \u001b[39m\u001b[32mIn[2]\u001b[39m\u001b[32m, line 24\u001b[39m\n\u001b[32m     21\u001b[39m \u001b[38;5;28mprint\u001b[39m(classification_report(y_true, y_pred))\n\u001b[32m     23\u001b[39m \u001b[38;5;66;03m# Optional: plot the confusion matrix\u001b[39;00m\n\u001b[32m---> \u001b[39m\u001b[32m24\u001b[39m \u001b[38;5;28;01mimport\u001b[39;00m\u001b[38;5;250m \u001b[39m\u001b[34;01mmatplotlib\u001b[39;00m\u001b[34;01m.\u001b[39;00m\u001b[34;01mpyplot\u001b[39;00m\u001b[38;5;250m \u001b[39m\u001b[38;5;28;01mas\u001b[39;00m\u001b[38;5;250m \u001b[39m\u001b[34;01mplt\u001b[39;00m\n\u001b[32m     26\u001b[39m disp = ConfusionMatrixDisplay(confusion_matrix=cm, display_labels=[\u001b[33m\"\u001b[39m\u001b[33mNo Side Effect\u001b[39m\u001b[33m\"\u001b[39m, \u001b[33m\"\u001b[39m\u001b[33mSide Effect\u001b[39m\u001b[33m\"\u001b[39m])\n\u001b[32m     27\u001b[39m disp.plot(cmap=plt.cm.Blues)\n",
      "\u001b[31mModuleNotFoundError\u001b[39m: No module named 'matplotlib'"
     ]
    }
   ],
   "source": [
    "# ---------------------------\n",
    "# 12. Import for confusion matrix\n",
    "# ---------------------------\n",
    "from sklearn.metrics import confusion_matrix, ConfusionMatrixDisplay, classification_report\n",
    "\n",
    "# Flatten arrays for sklearn\n",
    "y_true = test_labels\n",
    "y_pred = rounded_predictions.flatten()\n",
    "\n",
    "# ---------------------------\n",
    "# 13. Generate confusion matrix\n",
    "# ---------------------------\n",
    "cm = confusion_matrix(y_true, y_pred)\n",
    "\n",
    "# Print as text\n",
    "print(\"\\nConfusion Matrix:\")\n",
    "print(cm)\n",
    "\n",
    "# Optional: print precision, recall, f1-score\n",
    "print(\"\\nClassification Report:\")\n",
    "print(classification_report(y_true, y_pred))\n",
    "\n",
    "# Optional: plot the confusion matrix\n",
    "import matplotlib.pyplot as plt\n",
    "\n",
    "disp = ConfusionMatrixDisplay(confusion_matrix=cm, display_labels=[\"No Side Effect\", \"Side Effect\"])\n",
    "disp.plot(cmap=plt.cm.Blues)\n",
    "plt.title(\"Confusion Matrix\")\n",
    "plt.show()\n"
   ]
  },
  {
   "cell_type": "code",
   "execution_count": null,
   "id": "7c0b043e",
   "metadata": {},
   "outputs": [],
   "source": []
  },
  {
   "cell_type": "code",
   "execution_count": 4,
   "id": "7b51947a",
   "metadata": {},
   "outputs": [],
   "source": [
    "%matplotlib inline\n",
    "from sklearn.metrics import confusion_matrix\n",
    "import itertools\n",
    "import matplotlib.pyplot as plt"
   ]
  },
  {
   "cell_type": "code",
   "execution_count": 6,
   "id": "45b53167",
   "metadata": {},
   "outputs": [],
   "source": [
    "cm= confusion_matrix(y_true=test_labels,y_pred=rounded_predictions)"
   ]
  },
  {
   "cell_type": "code",
   "execution_count": 9,
   "id": "d9d0b1f8",
   "metadata": {},
   "outputs": [],
   "source": [
    "import numpy as np\n",
    "import matplotlib.pyplot as plt\n",
    "import itertools\n",
    "\n",
    "def plot_confusion_matrix(cm, classes,\n",
    "                          normalize=False,\n",
    "                          title='Confusion matrix',\n",
    "                          cmap=plt.cm.Blues):\n",
    "    \"\"\"\n",
    "    This function prints and plots the confusion matrix.\n",
    "    Normalization can be applied by setting `normalize=True`.\n",
    "    \"\"\"\n",
    "    plt.imshow(cm, interpolation='nearest', cmap=cmap)\n",
    "    plt.title(title)\n",
    "    plt.colorbar()\n",
    "    tick_marks = np.arange(len(classes))\n",
    "    plt.xticks(tick_marks, classes, rotation=45)\n",
    "    plt.yticks(tick_marks, classes)\n",
    "\n",
    "    if normalize:\n",
    "        cm = cm.astype('float') / cm.sum(axis=1)[:, np.newaxis]\n",
    "        print(\"Normalized confusion matrix\")\n",
    "    else:\n",
    "        print('Confusion matrix, without normalization')\n",
    "\n",
    "    print(cm)\n",
    "\n",
    "    thresh = cm.max() / 2.\n",
    "    for i, j in itertools.product(range(cm.shape[0]), range(cm.shape[1])):\n",
    "        plt.text(j, i, f\"{cm[i, j]:.2f}\" if normalize else f\"{cm[i, j]}\",\n",
    "                 horizontalalignment=\"center\",\n",
    "                 color=\"white\" if cm[i, j] > thresh else \"black\")\n",
    "\n",
    "    plt.tight_layout()\n",
    "    plt.ylabel('True label')\n",
    "    plt.xlabel('Predicted label')\n"
   ]
  },
  {
   "cell_type": "code",
   "execution_count": 10,
   "id": "efd92246",
   "metadata": {},
   "outputs": [
    {
     "name": "stdout",
     "output_type": "stream",
     "text": [
      "Confusion matrix, without normalization\n",
      "[[189  61]\n",
      " [ 47 203]]\n"
     ]
    },
    {
     "data": {
      "image/png": "[encoded data removed]",
      "text/plain": [
       "<Figure size 640x480 with 2 Axes>"
      ]
     },
     "metadata": {},
     "output_type": "display_data"
    }
   ],
   "source": [
    "cm_plot_labels = ['no_side_effects', 'had_side_effects']\n",
    "plot_confusion_matrix(cm=cm, classes=cm_plot_labels,title='Confusion matrix')"
   ]
  },
  {
   "cell_type": "markdown",
   "id": "e6c8a5e8",
   "metadata": {},
   "source": [
    "### Save and load  Model"
   ]
  },
  {
   "cell_type": "markdown",
   "id": "b13c8b1b",
   "metadata": {},
   "source": [
    "### 1. Model save"
   ]
  },
  {
   "cell_type": "code",
   "execution_count": 11,
   "id": "7f999b76",
   "metadata": {},
   "outputs": [
    {
     "data": {
      "text/html": [
       "<pre style=\"white-space:pre;overflow-x:auto;line-height:normal;font-family:Menlo,'DejaVu Sans Mono',consolas,'Courier New',monospace\"><span style=\"font-weight: bold\">Model: \"sequential\"</span>\n",
       "</pre>\n"
      ],
      "text/plain": [
       "\u001b[1mModel: \"sequential\"\u001b[0m\n"
      ]
     },
     "metadata": {},
     "output_type": "display_data"
    },
    {
     "data": {
      "text/html": [
       "<pre style=\"white-space:pre;overflow-x:auto;line-height:normal;font-family:Menlo,'DejaVu Sans Mono',consolas,'Courier New',monospace\">┏━━━━━━━━━━━━━━━━━━━━━━━━━━━━━━━━━┳━━━━━━━━━━━━━━━━━━━━━━━━┳━━━━━━━━━━━━━━━┓\n",
       "┃<span style=\"font-weight: bold\"> Layer (type)                    </span>┃<span style=\"font-weight: bold\"> Output Shape           </span>┃<span style=\"font-weight: bold\">       Param # </span>┃\n",
       "┡━━━━━━━━━━━━━━━━━━━━━━━━━━━━━━━━━╇━━━━━━━━━━━━━━━━━━━━━━━━╇━━━━━━━━━━━━━━━┩\n",
       "│ dense (<span style=\"color: #0087ff; text-decoration-color: #0087ff\">Dense</span>)                   │ (<span style=\"color: #00d7ff; text-decoration-color: #00d7ff\">None</span>, <span style=\"color: #00af00; text-decoration-color: #00af00\">16</span>)             │            <span style=\"color: #00af00; text-decoration-color: #00af00\">32</span> │\n",
       "├─────────────────────────────────┼────────────────────────┼───────────────┤\n",
       "│ dense_1 (<span style=\"color: #0087ff; text-decoration-color: #0087ff\">Dense</span>)                 │ (<span style=\"color: #00d7ff; text-decoration-color: #00d7ff\">None</span>, <span style=\"color: #00af00; text-decoration-color: #00af00\">32</span>)             │           <span style=\"color: #00af00; text-decoration-color: #00af00\">544</span> │\n",
       "├─────────────────────────────────┼────────────────────────┼───────────────┤\n",
       "│ dense_2 (<span style=\"color: #0087ff; text-decoration-color: #0087ff\">Dense</span>)                 │ (<span style=\"color: #00d7ff; text-decoration-color: #00d7ff\">None</span>, <span style=\"color: #00af00; text-decoration-color: #00af00\">1</span>)              │            <span style=\"color: #00af00; text-decoration-color: #00af00\">33</span> │\n",
       "└─────────────────────────────────┴────────────────────────┴───────────────┘\n",
       "</pre>\n"
      ],
      "text/plain": [
       "┏━━━━━━━━━━━━━━━━━━━━━━━━━━━━━━━━━┳━━━━━━━━━━━━━━━━━━━━━━━━┳━━━━━━━━━━━━━━━┓\n",
       "┃\u001b[1m \u001b[0m\u001b[1mLayer (type)                   \u001b[0m\u001b[1m \u001b[0m┃\u001b[1m \u001b[0m\u001b[1mOutput Shape          \u001b[0m\u001b[1m \u001b[0m┃\u001b[1m \u001b[0m\u001b[1m      Param #\u001b[0m\u001b[1m \u001b[0m┃\n",
       "┡━━━━━━━━━━━━━━━━━━━━━━━━━━━━━━━━━╇━━━━━━━━━━━━━━━━━━━━━━━━╇━━━━━━━━━━━━━━━┩\n",
       "│ dense (\u001b[38;5;33mDense\u001b[0m)                   │ (\u001b[38;5;45mNone\u001b[0m, \u001b[38;5;34m16\u001b[0m)             │            \u001b[38;5;34m32\u001b[0m │\n",
       "├─────────────────────────────────┼────────────────────────┼───────────────┤\n",
       "│ dense_1 (\u001b[38;5;33mDense\u001b[0m)                 │ (\u001b[38;5;45mNone\u001b[0m, \u001b[38;5;34m32\u001b[0m)             │           \u001b[38;5;34m544\u001b[0m │\n",
       "├─────────────────────────────────┼────────────────────────┼───────────────┤\n",
       "│ dense_2 (\u001b[38;5;33mDense\u001b[0m)                 │ (\u001b[38;5;45mNone\u001b[0m, \u001b[38;5;34m1\u001b[0m)              │            \u001b[38;5;34m33\u001b[0m │\n",
       "└─────────────────────────────────┴────────────────────────┴───────────────┘\n"
      ]
     },
     "metadata": {},
     "output_type": "display_data"
    },
    {
     "data": {
      "text/html": [
       "<pre style=\"white-space:pre;overflow-x:auto;line-height:normal;font-family:Menlo,'DejaVu Sans Mono',consolas,'Courier New',monospace\"><span style=\"font-weight: bold\"> Total params: </span><span style=\"color: #00af00; text-decoration-color: #00af00\">1,829</span> (7.15 KB)\n",
       "</pre>\n"
      ],
      "text/plain": [
       "\u001b[1m Total params: \u001b[0m\u001b[38;5;34m1,829\u001b[0m (7.15 KB)\n"
      ]
     },
     "metadata": {},
     "output_type": "display_data"
    },
    {
     "data": {
      "text/html": [
       "<pre style=\"white-space:pre;overflow-x:auto;line-height:normal;font-family:Menlo,'DejaVu Sans Mono',consolas,'Courier New',monospace\"><span style=\"font-weight: bold\"> Trainable params: </span><span style=\"color: #00af00; text-decoration-color: #00af00\">609</span> (2.38 KB)\n",
       "</pre>\n"
      ],
      "text/plain": [
       "\u001b[1m Trainable params: \u001b[0m\u001b[38;5;34m609\u001b[0m (2.38 KB)\n"
      ]
     },
     "metadata": {},
     "output_type": "display_data"
    },
    {
     "data": {
      "text/html": [
       "<pre style=\"white-space:pre;overflow-x:auto;line-height:normal;font-family:Menlo,'DejaVu Sans Mono',consolas,'Courier New',monospace\"><span style=\"font-weight: bold\"> Non-trainable params: </span><span style=\"color: #00af00; text-decoration-color: #00af00\">0</span> (0.00 B)\n",
       "</pre>\n"
      ],
      "text/plain": [
       "\u001b[1m Non-trainable params: \u001b[0m\u001b[38;5;34m0\u001b[0m (0.00 B)\n"
      ]
     },
     "metadata": {},
     "output_type": "display_data"
    },
    {
     "data": {
      "text/html": [
       "<pre style=\"white-space:pre;overflow-x:auto;line-height:normal;font-family:Menlo,'DejaVu Sans Mono',consolas,'Courier New',monospace\"><span style=\"font-weight: bold\"> Optimizer params: </span><span style=\"color: #00af00; text-decoration-color: #00af00\">1,220</span> (4.77 KB)\n",
       "</pre>\n"
      ],
      "text/plain": [
       "\u001b[1m Optimizer params: \u001b[0m\u001b[38;5;34m1,220\u001b[0m (4.77 KB)\n"
      ]
     },
     "metadata": {},
     "output_type": "display_data"
    }
   ],
   "source": [
    "model.summary()"
   ]
  },
  {
   "cell_type": "code",
   "execution_count": 17,
   "id": "8219bf67",
   "metadata": {},
   "outputs": [
    {
     "name": "stdout",
     "output_type": "stream",
     "text": [
      "Model saved.\n"
     ]
    }
   ],
   "source": [
    "import os\n",
    "\n",
    "model_path = '/Users/utkarshchandra/Documents/Machine Leraning /Learning  Keras with TensorFlow/medical_trail_model.keras'\n",
    "\n",
    "# Check if the model file already exists\n",
    "if not os.path.isfile(model_path):\n",
    "    model.save(model_path)\n",
    "    print(\"Model saved.\")\n",
    "else:\n",
    "    print(\"Model already exists. Skipping save.\")\n"
   ]
  },
  {
   "cell_type": "code",
   "execution_count": 18,
   "id": "24400141",
   "metadata": {},
   "outputs": [
    {
     "name": "stderr",
     "output_type": "stream",
     "text": [
      "/Library/Frameworks/Python.framework/Versions/3.12/lib/python3.12/site-packages/keras/src/saving/saving_lib.py:802: UserWarning: Skipping variable loading for optimizer 'rmsprop', because it has 8 variables whereas the saved optimizer has 14 variables. \n",
      "  saveable.load_own_variables(weights_store.get(inner_path))\n"
     ]
    }
   ],
   "source": [
    "from tensorflow.keras.models import load_model \n",
    "new_model = load_model('/Users/utkarshchandra/Documents/Machine Leraning /Learning  Keras with TensorFlow/medical_trail_model.keras')"
   ]
  },
  {
   "cell_type": "code",
   "execution_count": 19,
   "id": "e3342e59",
   "metadata": {},
   "outputs": [
    {
     "data": {
      "text/html": [
       "<pre style=\"white-space:pre;overflow-x:auto;line-height:normal;font-family:Menlo,'DejaVu Sans Mono',consolas,'Courier New',monospace\"><span style=\"font-weight: bold\">Model: \"sequential\"</span>\n",
       "</pre>\n"
      ],
      "text/plain": [
       "\u001b[1mModel: \"sequential\"\u001b[0m\n"
      ]
     },
     "metadata": {},
     "output_type": "display_data"
    },
    {
     "data": {
      "text/html": [
       "<pre style=\"white-space:pre;overflow-x:auto;line-height:normal;font-family:Menlo,'DejaVu Sans Mono',consolas,'Courier New',monospace\">┏━━━━━━━━━━━━━━━━━━━━━━━━━━━━━━━━━┳━━━━━━━━━━━━━━━━━━━━━━━━┳━━━━━━━━━━━━━━━┓\n",
       "┃<span style=\"font-weight: bold\"> Layer (type)                    </span>┃<span style=\"font-weight: bold\"> Output Shape           </span>┃<span style=\"font-weight: bold\">       Param # </span>┃\n",
       "┡━━━━━━━━━━━━━━━━━━━━━━━━━━━━━━━━━╇━━━━━━━━━━━━━━━━━━━━━━━━╇━━━━━━━━━━━━━━━┩\n",
       "│ dense (<span style=\"color: #0087ff; text-decoration-color: #0087ff\">Dense</span>)                   │ (<span style=\"color: #00d7ff; text-decoration-color: #00d7ff\">None</span>, <span style=\"color: #00af00; text-decoration-color: #00af00\">16</span>)             │            <span style=\"color: #00af00; text-decoration-color: #00af00\">32</span> │\n",
       "├─────────────────────────────────┼────────────────────────┼───────────────┤\n",
       "│ dense_1 (<span style=\"color: #0087ff; text-decoration-color: #0087ff\">Dense</span>)                 │ (<span style=\"color: #00d7ff; text-decoration-color: #00d7ff\">None</span>, <span style=\"color: #00af00; text-decoration-color: #00af00\">32</span>)             │           <span style=\"color: #00af00; text-decoration-color: #00af00\">544</span> │\n",
       "├─────────────────────────────────┼────────────────────────┼───────────────┤\n",
       "│ dense_2 (<span style=\"color: #0087ff; text-decoration-color: #0087ff\">Dense</span>)                 │ (<span style=\"color: #00d7ff; text-decoration-color: #00d7ff\">None</span>, <span style=\"color: #00af00; text-decoration-color: #00af00\">1</span>)              │            <span style=\"color: #00af00; text-decoration-color: #00af00\">33</span> │\n",
       "└─────────────────────────────────┴────────────────────────┴───────────────┘\n",
       "</pre>\n"
      ],
      "text/plain": [
       "┏━━━━━━━━━━━━━━━━━━━━━━━━━━━━━━━━━┳━━━━━━━━━━━━━━━━━━━━━━━━┳━━━━━━━━━━━━━━━┓\n",
       "┃\u001b[1m \u001b[0m\u001b[1mLayer (type)                   \u001b[0m\u001b[1m \u001b[0m┃\u001b[1m \u001b[0m\u001b[1mOutput Shape          \u001b[0m\u001b[1m \u001b[0m┃\u001b[1m \u001b[0m\u001b[1m      Param #\u001b[0m\u001b[1m \u001b[0m┃\n",
       "┡━━━━━━━━━━━━━━━━━━━━━━━━━━━━━━━━━╇━━━━━━━━━━━━━━━━━━━━━━━━╇━━━━━━━━━━━━━━━┩\n",
       "│ dense (\u001b[38;5;33mDense\u001b[0m)                   │ (\u001b[38;5;45mNone\u001b[0m, \u001b[38;5;34m16\u001b[0m)             │            \u001b[38;5;34m32\u001b[0m │\n",
       "├─────────────────────────────────┼────────────────────────┼───────────────┤\n",
       "│ dense_1 (\u001b[38;5;33mDense\u001b[0m)                 │ (\u001b[38;5;45mNone\u001b[0m, \u001b[38;5;34m32\u001b[0m)             │           \u001b[38;5;34m544\u001b[0m │\n",
       "├─────────────────────────────────┼────────────────────────┼───────────────┤\n",
       "│ dense_2 (\u001b[38;5;33mDense\u001b[0m)                 │ (\u001b[38;5;45mNone\u001b[0m, \u001b[38;5;34m1\u001b[0m)              │            \u001b[38;5;34m33\u001b[0m │\n",
       "└─────────────────────────────────┴────────────────────────┴───────────────┘\n"
      ]
     },
     "metadata": {},
     "output_type": "display_data"
    },
    {
     "data": {
      "text/html": [
       "<pre style=\"white-space:pre;overflow-x:auto;line-height:normal;font-family:Menlo,'DejaVu Sans Mono',consolas,'Courier New',monospace\"><span style=\"font-weight: bold\"> Total params: </span><span style=\"color: #00af00; text-decoration-color: #00af00\">1,220</span> (4.77 KB)\n",
       "</pre>\n"
      ],
      "text/plain": [
       "\u001b[1m Total params: \u001b[0m\u001b[38;5;34m1,220\u001b[0m (4.77 KB)\n"
      ]
     },
     "metadata": {},
     "output_type": "display_data"
    },
    {
     "data": {
      "text/html": [
       "<pre style=\"white-space:pre;overflow-x:auto;line-height:normal;font-family:Menlo,'DejaVu Sans Mono',consolas,'Courier New',monospace\"><span style=\"font-weight: bold\"> Trainable params: </span><span style=\"color: #00af00; text-decoration-color: #00af00\">609</span> (2.38 KB)\n",
       "</pre>\n"
      ],
      "text/plain": [
       "\u001b[1m Trainable params: \u001b[0m\u001b[38;5;34m609\u001b[0m (2.38 KB)\n"
      ]
     },
     "metadata": {},
     "output_type": "display_data"
    },
    {
     "data": {
      "text/html": [
       "<pre style=\"white-space:pre;overflow-x:auto;line-height:normal;font-family:Menlo,'DejaVu Sans Mono',consolas,'Courier New',monospace\"><span style=\"font-weight: bold\"> Non-trainable params: </span><span style=\"color: #00af00; text-decoration-color: #00af00\">0</span> (0.00 B)\n",
       "</pre>\n"
      ],
      "text/plain": [
       "\u001b[1m Non-trainable params: \u001b[0m\u001b[38;5;34m0\u001b[0m (0.00 B)\n"
      ]
     },
     "metadata": {},
     "output_type": "display_data"
    },
    {
     "data": {
      "text/html": [
       "<pre style=\"white-space:pre;overflow-x:auto;line-height:normal;font-family:Menlo,'DejaVu Sans Mono',consolas,'Courier New',monospace\"><span style=\"font-weight: bold\"> Optimizer params: </span><span style=\"color: #00af00; text-decoration-color: #00af00\">611</span> (2.39 KB)\n",
       "</pre>\n"
      ],
      "text/plain": [
       "\u001b[1m Optimizer params: \u001b[0m\u001b[38;5;34m611\u001b[0m (2.39 KB)\n"
      ]
     },
     "metadata": {},
     "output_type": "display_data"
    }
   ],
   "source": [
    "new_model.summary()"
   ]
  },
  {
   "cell_type": "code",
   "execution_count": 20,
   "id": "7b5ccc4e",
   "metadata": {},
   "outputs": [
    {
     "data": {
      "text/plain": [
       "[array([[-0.33953255, -0.14633292, -0.5787894 , -0.46479243,  0.73545873,\n",
       "         -0.30794007, -0.1272532 , -0.10688952,  0.5741398 ,  0.2935298 ,\n",
       "         -0.19385174, -0.23299077, -0.1724715 , -0.3159842 , -0.30616304,\n",
       "          0.6138306 ]], dtype=float32),\n",
       " array([ 0.        ,  0.        ,  0.        ,  0.        , -0.18563351,\n",
       "         0.        ,  0.        ,  0.        , -0.0115894 , -0.09718819,\n",
       "         0.        ,  0.        ,  0.        ,  0.        ,  0.        ,\n",
       "        -0.14504653], dtype=float32),\n",
       " array([[ 2.10509896e-02,  3.39706272e-01, -1.46590278e-01,\n",
       "         -3.02182704e-01, -2.23614991e-01,  2.11212009e-01,\n",
       "         -3.26172531e-01,  2.54179806e-01,  3.49826843e-01,\n",
       "          7.74663985e-02, -1.70231164e-02, -2.46264458e-01,\n",
       "         -3.23694110e-01,  7.11363852e-02, -3.53147000e-01,\n",
       "         -5.90400696e-02, -3.26809525e-01,  2.00430781e-01,\n",
       "         -2.35846341e-01, -1.45291820e-01, -2.37768501e-01,\n",
       "         -1.01130337e-01, -2.90990174e-02, -7.19884932e-02,\n",
       "         -1.49448931e-01,  7.66753852e-02,  2.31589943e-01,\n",
       "         -1.41900092e-01,  2.55630523e-01, -3.23902309e-01,\n",
       "          1.56751722e-01,  7.68238306e-02],\n",
       "        [-9.72192883e-02,  1.01772845e-01, -3.39114219e-01,\n",
       "         -2.42701620e-01, -1.37535453e-01,  1.19051874e-01,\n",
       "          1.70397609e-01,  1.12156212e-01, -1.03098512e-01,\n",
       "          9.10639167e-02, -3.33388805e-01,  2.90072471e-01,\n",
       "         -2.92462617e-01,  2.21597761e-01,  3.06334585e-01,\n",
       "         -5.87207675e-02, -1.25289857e-02,  3.44135433e-01,\n",
       "         -2.26506427e-01,  3.18969339e-01,  1.94480568e-01,\n",
       "         -2.91892976e-01,  2.89138943e-01, -9.71931517e-02,\n",
       "         -8.63048434e-03,  8.89666975e-02, -3.13647568e-01,\n",
       "         -3.22125226e-01,  2.42186397e-01,  1.13634825e-01,\n",
       "         -2.34040171e-01,  9.41739976e-02],\n",
       "        [ 2.00930625e-01,  1.80902392e-01, -3.67318094e-02,\n",
       "          2.02592820e-01,  3.36652488e-01,  8.31688046e-02,\n",
       "          2.00309962e-01,  2.73508281e-01,  2.73017496e-01,\n",
       "         -3.36329490e-01,  2.29941815e-01,  3.36071879e-01,\n",
       "         -3.26649100e-01, -1.36156380e-02,  1.08994246e-02,\n",
       "          5.59034944e-03, -1.16448879e-01,  2.24632591e-01,\n",
       "          1.19121403e-01, -1.72787830e-01, -6.57158792e-02,\n",
       "         -5.58879077e-02,  5.29159606e-02,  2.04114407e-01,\n",
       "          2.82418519e-01,  2.82884091e-01, -2.57837802e-01,\n",
       "         -1.48094252e-01, -1.45361438e-01, -2.54167825e-01,\n",
       "         -1.19704127e-01,  3.07936221e-01],\n",
       "        [-3.97897363e-02,  1.63447946e-01, -2.29655653e-01,\n",
       "          3.82931232e-02, -1.47768110e-01, -1.38442114e-01,\n",
       "          3.25139254e-01, -2.07629278e-01, -6.93636835e-02,\n",
       "          4.77328300e-02,  6.02564216e-02, -8.90493691e-02,\n",
       "         -2.47424752e-01,  6.18420839e-02,  7.07938969e-02,\n",
       "         -1.31503060e-01,  2.22129077e-01, -7.48081207e-02,\n",
       "          4.21732664e-04, -4.41575050e-02,  3.52369636e-01,\n",
       "         -2.44193107e-01, -8.30051899e-02,  9.05272961e-02,\n",
       "          3.27357203e-01, -1.70642897e-01, -2.92477727e-01,\n",
       "         -6.49255514e-03, -2.77339250e-01,  3.19623083e-01,\n",
       "          1.33938819e-01,  3.41396958e-01],\n",
       "        [-3.12861264e-01, -8.41026049e-05, -5.49452722e-01,\n",
       "         -6.45854995e-02,  4.30568993e-01, -3.17554235e-01,\n",
       "         -5.38382232e-02, -3.20199370e-01,  4.63571586e-02,\n",
       "          4.00337577e-01,  3.84856462e-02,  4.27099884e-01,\n",
       "          1.09617904e-01,  1.40948758e-01,  4.56018627e-01,\n",
       "         -5.92281163e-01,  4.05776143e-01,  2.44421363e-02,\n",
       "         -1.48462012e-01, -3.48190874e-01,  1.93600208e-01,\n",
       "          4.19653833e-01, -1.50344715e-01, -3.41929138e-01,\n",
       "         -3.31149399e-01,  2.66828030e-01,  1.29890308e-01,\n",
       "          1.96751550e-01, -2.58674681e-01, -2.23669666e-03,\n",
       "         -5.17884493e-01,  5.65118790e-01],\n",
       "        [-2.64491796e-01, -2.85632223e-01,  1.89072102e-01,\n",
       "          7.79606402e-02,  9.21341181e-02, -1.50949061e-02,\n",
       "         -1.96697146e-01, -2.83820331e-01,  1.77546471e-01,\n",
       "         -9.03258324e-02, -3.04306746e-01, -3.29585224e-01,\n",
       "          1.62569016e-01, -7.29370713e-02,  2.54699200e-01,\n",
       "         -1.23800635e-01, -4.93250489e-02,  1.36726320e-01,\n",
       "          1.17712170e-01, -3.46165389e-01, -1.39887154e-01,\n",
       "          3.78150046e-02, -2.06183642e-01, -3.64498496e-02,\n",
       "         -2.37516969e-01,  1.55288190e-01, -1.15134478e-01,\n",
       "          9.21759903e-02, -1.14717990e-01, -3.19813907e-01,\n",
       "          7.35470653e-03, -4.54532802e-02],\n",
       "        [-2.70709217e-01,  2.00016826e-01,  8.28663409e-02,\n",
       "         -1.58068553e-01,  1.88368350e-01,  3.40909749e-01,\n",
       "          2.16149777e-01, -4.74927425e-02, -5.34300506e-02,\n",
       "         -3.19579482e-01, -3.53359938e-01, -2.50058949e-01,\n",
       "          3.05702657e-01,  2.59229928e-01,  6.45950139e-02,\n",
       "         -1.18467882e-01, -2.65713364e-01, -3.25929075e-01,\n",
       "          3.08403999e-01, -2.40724593e-01,  7.45348334e-02,\n",
       "         -1.55030102e-01, -3.29963028e-01, -2.66215503e-01,\n",
       "          2.87339181e-01, -1.12748802e-01, -2.02546626e-01,\n",
       "          1.42795146e-02,  1.55729353e-02,  1.38539732e-01,\n",
       "         -3.15845519e-01,  2.74213463e-01],\n",
       "        [ 3.13530058e-01, -3.10736567e-01,  2.71917552e-01,\n",
       "          1.63215965e-01, -1.50058463e-01,  1.49183244e-01,\n",
       "          2.91597456e-01, -4.70868945e-02,  2.67280310e-01,\n",
       "         -2.42090479e-01,  2.80919522e-01, -1.57807067e-01,\n",
       "          3.29743534e-01, -2.53048241e-01,  8.09724331e-02,\n",
       "         -3.63116264e-02,  1.91199452e-01, -1.54867917e-01,\n",
       "          4.61474061e-03, -2.78872132e-01, -7.33726025e-02,\n",
       "         -1.08147457e-01,  1.55647367e-01,  1.32542223e-01,\n",
       "         -1.81934878e-01, -3.54387462e-02,  1.52762502e-01,\n",
       "          2.36970931e-01,  2.55477577e-01, -3.26704502e-01,\n",
       "         -3.00107658e-01,  1.88483298e-02],\n",
       "        [ 5.68189472e-02, -2.09011778e-01,  7.90292323e-02,\n",
       "         -2.13461325e-01,  1.96633682e-01, -7.68278837e-02,\n",
       "         -9.42580402e-02, -2.63579845e-01,  2.57141232e-01,\n",
       "          5.55798948e-01, -1.39347345e-01,  4.02897358e-01,\n",
       "         -2.12196689e-02, -3.15719247e-02,  3.13232094e-01,\n",
       "          1.65423989e-01,  5.15441775e-01,  2.85093542e-02,\n",
       "         -5.99072874e-02, -2.71364748e-01, -6.02886081e-02,\n",
       "          3.29470307e-01, -2.54625201e-01,  2.82667559e-02,\n",
       "         -3.16396207e-01, -2.66222030e-01,  1.18106820e-01,\n",
       "          5.23685455e-01,  1.45389065e-01, -2.56965786e-01,\n",
       "          1.01215936e-01,  5.27392507e-01],\n",
       "        [-4.62348551e-01, -5.17270386e-01, -6.25084937e-01,\n",
       "         -3.70339274e-01,  4.07351434e-01, -3.34890097e-01,\n",
       "         -2.11646795e-01,  3.39462519e-01,  6.60211980e-01,\n",
       "          4.55289096e-01, -1.96476713e-01,  6.45492911e-01,\n",
       "          1.65828750e-01,  1.38255745e-01,  4.98074412e-01,\n",
       "         -1.47056058e-01,  4.29322004e-01, -2.35736340e-01,\n",
       "         -2.77862132e-01, -1.91395923e-01, -2.26582304e-01,\n",
       "          7.58930445e-01, -2.45612189e-01, -1.39086276e-01,\n",
       "          5.05119860e-02, -1.14015192e-01, -1.94289133e-01,\n",
       "          4.78950292e-01,  1.19398750e-01, -1.97549723e-02,\n",
       "         -1.60757244e-01,  4.63493884e-01],\n",
       "        [ 2.11644441e-01,  2.85413116e-01,  2.67371029e-01,\n",
       "          1.38623834e-01,  1.84864312e-01,  1.87182516e-01,\n",
       "          1.15500838e-01,  3.19899648e-01, -2.30413020e-01,\n",
       "          1.96658045e-01, -6.16110265e-02,  3.42486829e-01,\n",
       "          1.89176649e-01,  2.30445832e-01,  1.54742509e-01,\n",
       "          2.60021776e-01,  1.08322531e-01, -2.63211191e-01,\n",
       "          4.58398461e-03,  3.13561231e-01, -6.54662848e-02,\n",
       "         -2.98003912e-01, -8.89295042e-02,  9.73997712e-02,\n",
       "         -3.06260407e-01,  2.84647912e-01,  2.20792145e-01,\n",
       "          1.53800398e-01, -5.08080125e-02, -2.13024080e-01,\n",
       "         -4.90222573e-02, -1.16135895e-01],\n",
       "        [ 3.30775648e-01,  2.10166663e-01,  3.43295962e-01,\n",
       "         -2.67504692e-01,  2.82221109e-01,  6.26680255e-03,\n",
       "         -1.23291835e-01,  2.87982255e-01, -3.17388117e-01,\n",
       "         -2.41583288e-01,  1.45741701e-01, -3.05248380e-01,\n",
       "         -3.17287803e-01, -2.16404423e-01, -2.11390376e-01,\n",
       "         -1.03553116e-01,  1.06616616e-01, -7.87526369e-02,\n",
       "          2.53606528e-01, -2.15964615e-02,  2.04181761e-01,\n",
       "          1.86882824e-01, -3.29487354e-01, -1.05173409e-01,\n",
       "         -1.08240187e-01,  7.92968571e-02, -2.80109376e-01,\n",
       "         -2.81138271e-01, -1.54321358e-01, -5.70905209e-02,\n",
       "         -2.98327357e-01, -9.49195027e-02],\n",
       "        [-1.71889514e-01,  1.55150443e-01, -2.53958941e-01,\n",
       "          3.92219424e-02,  2.97563642e-01, -2.63076335e-01,\n",
       "          2.67674774e-01, -2.35974133e-01, -1.04932159e-01,\n",
       "         -3.73522341e-02, -9.93681848e-02, -2.69122720e-02,\n",
       "          9.19293463e-02,  3.01354498e-01,  3.30686361e-01,\n",
       "          3.26247782e-01, -1.65674284e-01, -1.19029358e-01,\n",
       "         -8.00716877e-02, -3.64507139e-02,  5.68095744e-02,\n",
       "         -2.27212474e-01,  1.50790185e-01,  1.00056112e-01,\n",
       "         -3.14641058e-01, -2.64586776e-01,  1.78369433e-01,\n",
       "         -7.88942575e-02,  3.52139384e-01,  2.84806222e-01,\n",
       "          2.97940761e-01, -9.17156637e-02],\n",
       "        [-1.40291095e-01, -1.86722085e-01, -3.43795121e-01,\n",
       "          1.55159742e-01,  3.00233811e-01, -1.53903350e-01,\n",
       "          3.50956917e-02,  7.97646046e-02, -3.34866315e-01,\n",
       "          2.05982357e-01, -6.68936968e-02,  1.46899492e-01,\n",
       "          1.11632347e-01, -1.09859809e-01, -1.82356089e-01,\n",
       "          2.69974440e-01, -1.37761265e-01, -2.85711110e-01,\n",
       "          9.94437039e-02, -3.09230655e-01, -1.16142884e-01,\n",
       "          2.90825039e-01, -2.85155475e-01,  5.64327836e-02,\n",
       "         -1.30534351e-01,  1.71974152e-01, -2.70218194e-01,\n",
       "         -1.15431845e-02,  2.22033948e-01,  1.58741444e-01,\n",
       "         -9.76236463e-02,  8.05178583e-02],\n",
       "        [-2.23378241e-02,  1.28271729e-01, -2.83778429e-01,\n",
       "         -1.78894699e-02, -1.96604505e-01,  2.68054903e-02,\n",
       "          2.64244705e-01, -3.36599469e-01,  3.49918216e-01,\n",
       "         -3.96032035e-02, -5.59554994e-02,  2.91609317e-01,\n",
       "         -3.49994093e-01,  1.42611265e-01,  2.50535280e-01,\n",
       "          1.36992693e-01,  7.77352154e-02,  1.38729960e-01,\n",
       "          8.21045041e-02, -6.79386258e-02,  2.85528898e-02,\n",
       "          2.04663604e-01,  2.01287597e-01, -2.23494962e-01,\n",
       "          1.47717208e-01,  2.09491104e-01, -1.68829232e-01,\n",
       "          1.53568000e-01, -9.42840874e-02,  1.43887132e-01,\n",
       "         -9.83544886e-02,  1.01630121e-01],\n",
       "        [-3.20706725e-01, -1.60797581e-01,  2.53435853e-03,\n",
       "         -2.37711310e-01,  4.72545892e-01,  2.04405487e-02,\n",
       "         -2.18665600e-01,  9.15000681e-03,  6.46500945e-01,\n",
       "          5.04046500e-01,  1.76231265e-02,  4.90773052e-01,\n",
       "         -1.56165704e-01, -1.63060039e-01,  1.43530115e-01,\n",
       "         -2.98136085e-01,  5.69558680e-01, -1.08041018e-01,\n",
       "         -1.91409230e-01, -1.49081945e-02, -2.96089202e-01,\n",
       "          6.40270710e-01, -2.94135600e-01, -4.32436794e-01,\n",
       "         -1.74604192e-01, -2.49706339e-02, -3.28864098e-01,\n",
       "          6.02724195e-01, -8.74221046e-03,  2.26897314e-01,\n",
       "         -1.91906795e-01,  9.98145714e-03]], dtype=float32),\n",
       " array([ 0.34028852,  0.26017302,  0.33725494,  0.30350408, -0.0735324 ,\n",
       "         0.        ,  0.        , -0.00052272, -0.07982401, -0.11599851,\n",
       "         0.        , -0.09611263, -0.00831782, -0.0108371 , -0.07778896,\n",
       "         0.3654813 , -0.11769439, -0.00659078,  0.        ,  0.        ,\n",
       "         0.        , -0.0916208 ,  0.        ,  0.36433443,  0.        ,\n",
       "        -0.01822557, -0.01473315, -0.11260753, -0.019336  , -0.00250634,\n",
       "         0.31693065, -0.10223773], dtype=float32),\n",
       " array([[-0.9578889 ],\n",
       "        [-0.73841155],\n",
       "        [-0.76613057],\n",
       "        [-0.5113629 ],\n",
       "        [ 0.75385696],\n",
       "        [-0.1382817 ],\n",
       "        [-0.2814748 ],\n",
       "        [ 0.2211831 ],\n",
       "        [ 0.56193966],\n",
       "        [ 0.40928403],\n",
       "        [ 0.31616902],\n",
       "        [ 0.71631336],\n",
       "        [-0.30490106],\n",
       "        [-0.06795751],\n",
       "        [ 0.6869295 ],\n",
       "        [-0.5751793 ],\n",
       "        [ 0.33816138],\n",
       "        [ 0.01729729],\n",
       "        [ 0.4049669 ],\n",
       "        [-0.08898222],\n",
       "        [ 0.37730813],\n",
       "        [ 0.6959673 ],\n",
       "        [ 0.15138668],\n",
       "        [-0.7613078 ],\n",
       "        [-0.30851436],\n",
       "        [-0.10352905],\n",
       "        [ 0.2270392 ],\n",
       "        [ 0.43757865],\n",
       "        [ 0.24032955],\n",
       "        [-0.07224581],\n",
       "        [-0.94150436],\n",
       "        [ 0.57190377]], dtype=float32),\n",
       " array([-0.21000059], dtype=float32)]"
      ]
     },
     "execution_count": 20,
     "metadata": {},
     "output_type": "execute_result"
    }
   ],
   "source": [
    "new_model.get_weights()"
   ]
  },
  {
   "cell_type": "code",
   "execution_count": 21,
   "id": "d303235a",
   "metadata": {},
   "outputs": [
    {
     "data": {
      "text/plain": [
       "<keras.src.optimizers.rmsprop.RMSprop at 0x17ed71e50>"
      ]
     },
     "execution_count": 21,
     "metadata": {},
     "output_type": "execute_result"
    }
   ],
   "source": [
    "new_model.optimizer"
   ]
  }
 ],
 "metadata": {
  "kernelspec": {
   "display_name": "Python 3",
   "language": "python",
   "name": "python3"
  },
  "language_info": {
   "codemirror_mode": {
    "name": "ipython",
    "version": 3
   },
   "file_extension": ".py",
   "mimetype": "text/x-python",
   "name": "python",
   "nbconvert_exporter": "python",
   "pygments_lexer": "ipython3",
   "version": "3.12.7"
  }
 },
 "nbformat": 4,
 "nbformat_minor": 5
}
